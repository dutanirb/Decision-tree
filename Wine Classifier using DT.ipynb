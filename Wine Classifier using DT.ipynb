{
 "cells": [
  {
   "cell_type": "code",
   "execution_count": 26,
   "id": "fc4170bc",
   "metadata": {},
   "outputs": [],
   "source": [
    "import pandas as pd\n",
    "import matplotlib.pyplot as plt\n",
    "import seaborn as sns"
   ]
  },
  {
   "cell_type": "code",
   "execution_count": 27,
   "id": "c620de07",
   "metadata": {},
   "outputs": [
    {
     "data": {
      "text/html": [
       "<div>\n",
       "<style scoped>\n",
       "    .dataframe tbody tr th:only-of-type {\n",
       "        vertical-align: middle;\n",
       "    }\n",
       "\n",
       "    .dataframe tbody tr th {\n",
       "        vertical-align: top;\n",
       "    }\n",
       "\n",
       "    .dataframe thead th {\n",
       "        text-align: right;\n",
       "    }\n",
       "</style>\n",
       "<table border=\"1\" class=\"dataframe\">\n",
       "  <thead>\n",
       "    <tr style=\"text-align: right;\">\n",
       "      <th></th>\n",
       "      <th>type</th>\n",
       "      <th>fixed acidity</th>\n",
       "      <th>volatile acidity</th>\n",
       "      <th>citric acid</th>\n",
       "      <th>residual sugar</th>\n",
       "      <th>chlorides</th>\n",
       "      <th>free sulfur dioxide</th>\n",
       "      <th>total sulfur dioxide</th>\n",
       "      <th>density</th>\n",
       "      <th>pH</th>\n",
       "      <th>sulphates</th>\n",
       "      <th>alcohol</th>\n",
       "      <th>quality</th>\n",
       "    </tr>\n",
       "  </thead>\n",
       "  <tbody>\n",
       "    <tr>\n",
       "      <th>0</th>\n",
       "      <td>white</td>\n",
       "      <td>7.0</td>\n",
       "      <td>0.27</td>\n",
       "      <td>0.36</td>\n",
       "      <td>20.7</td>\n",
       "      <td>0.045</td>\n",
       "      <td>45.0</td>\n",
       "      <td>170.0</td>\n",
       "      <td>1.0010</td>\n",
       "      <td>3.00</td>\n",
       "      <td>0.45</td>\n",
       "      <td>8.8</td>\n",
       "      <td>6.0</td>\n",
       "    </tr>\n",
       "    <tr>\n",
       "      <th>1</th>\n",
       "      <td>white</td>\n",
       "      <td>6.3</td>\n",
       "      <td>0.30</td>\n",
       "      <td>0.34</td>\n",
       "      <td>1.6</td>\n",
       "      <td>0.049</td>\n",
       "      <td>14.0</td>\n",
       "      <td>132.0</td>\n",
       "      <td>0.9940</td>\n",
       "      <td>3.30</td>\n",
       "      <td>0.49</td>\n",
       "      <td>9.5</td>\n",
       "      <td>6.0</td>\n",
       "    </tr>\n",
       "    <tr>\n",
       "      <th>2</th>\n",
       "      <td>white</td>\n",
       "      <td>8.1</td>\n",
       "      <td>0.28</td>\n",
       "      <td>0.40</td>\n",
       "      <td>6.9</td>\n",
       "      <td>0.050</td>\n",
       "      <td>30.0</td>\n",
       "      <td>97.0</td>\n",
       "      <td>0.9951</td>\n",
       "      <td>3.26</td>\n",
       "      <td>0.44</td>\n",
       "      <td>10.1</td>\n",
       "      <td>6.0</td>\n",
       "    </tr>\n",
       "    <tr>\n",
       "      <th>3</th>\n",
       "      <td>white</td>\n",
       "      <td>7.2</td>\n",
       "      <td>0.23</td>\n",
       "      <td>0.32</td>\n",
       "      <td>8.5</td>\n",
       "      <td>0.058</td>\n",
       "      <td>47.0</td>\n",
       "      <td>186.0</td>\n",
       "      <td>0.9956</td>\n",
       "      <td>3.19</td>\n",
       "      <td>0.40</td>\n",
       "      <td>9.9</td>\n",
       "      <td>6.0</td>\n",
       "    </tr>\n",
       "    <tr>\n",
       "      <th>4</th>\n",
       "      <td>white</td>\n",
       "      <td>7.2</td>\n",
       "      <td>0.23</td>\n",
       "      <td>0.32</td>\n",
       "      <td>8.5</td>\n",
       "      <td>0.058</td>\n",
       "      <td>47.0</td>\n",
       "      <td>186.0</td>\n",
       "      <td>0.9956</td>\n",
       "      <td>3.19</td>\n",
       "      <td>0.40</td>\n",
       "      <td>9.9</td>\n",
       "      <td>6.0</td>\n",
       "    </tr>\n",
       "  </tbody>\n",
       "</table>\n",
       "</div>"
      ],
      "text/plain": [
       "    type  fixed acidity  volatile acidity  citric acid  residual sugar  \\\n",
       "0  white            7.0              0.27         0.36            20.7   \n",
       "1  white            6.3              0.30         0.34             1.6   \n",
       "2  white            8.1              0.28         0.40             6.9   \n",
       "3  white            7.2              0.23         0.32             8.5   \n",
       "4  white            7.2              0.23         0.32             8.5   \n",
       "\n",
       "   chlorides  free sulfur dioxide  total sulfur dioxide  density    pH  \\\n",
       "0      0.045                 45.0                 170.0   1.0010  3.00   \n",
       "1      0.049                 14.0                 132.0   0.9940  3.30   \n",
       "2      0.050                 30.0                  97.0   0.9951  3.26   \n",
       "3      0.058                 47.0                 186.0   0.9956  3.19   \n",
       "4      0.058                 47.0                 186.0   0.9956  3.19   \n",
       "\n",
       "   sulphates  alcohol  quality  \n",
       "0       0.45      8.8      6.0  \n",
       "1       0.49      9.5      6.0  \n",
       "2       0.44     10.1      6.0  \n",
       "3       0.40      9.9      6.0  \n",
       "4       0.40      9.9      6.0  "
      ]
     },
     "execution_count": 27,
     "metadata": {},
     "output_type": "execute_result"
    }
   ],
   "source": [
    "df = pd.read_excel('winequality.xlsx')\n",
    "df.head()"
   ]
  },
  {
   "cell_type": "code",
   "execution_count": 28,
   "id": "34bee997",
   "metadata": {},
   "outputs": [
    {
     "data": {
      "text/plain": [
       "0"
      ]
     },
     "execution_count": 28,
     "metadata": {},
     "output_type": "execute_result"
    }
   ],
   "source": [
    "df.dropna(subset=['volatile acidity'], how='all', inplace=True)\n",
    "df['volatile acidity'].isnull().values.sum()\n",
    "df.dropna(subset=['fixed acidity'], how='all', inplace=True)\n",
    "df['fixed acidity'].isnull().values.sum()\n",
    "df.dropna(subset=['type'], how='all', inplace=True)\n",
    "df['type'].isnull().values.sum()"
   ]
  },
  {
   "cell_type": "code",
   "execution_count": 29,
   "id": "9e41532d",
   "metadata": {},
   "outputs": [
    {
     "data": {
      "text/plain": [
       "0       0.270\n",
       "1       0.300\n",
       "2       0.280\n",
       "3       0.230\n",
       "4       0.230\n",
       "        ...  \n",
       "6492    0.600\n",
       "6493    0.550\n",
       "6494    0.510\n",
       "6495    0.645\n",
       "6496    0.310\n",
       "Name: volatile acidity, Length: 6480, dtype: float64"
      ]
     },
     "execution_count": 29,
     "metadata": {},
     "output_type": "execute_result"
    }
   ],
   "source": [
    "X=df.iloc[:,0:2]  # independent\n",
    "y=df.iloc[:,2]   # dependent \n",
    "y"
   ]
  },
  {
   "cell_type": "code",
   "execution_count": 30,
   "id": "22df838f",
   "metadata": {},
   "outputs": [
    {
     "name": "stdout",
     "output_type": "stream",
     "text": [
      "<class 'pandas.core.frame.DataFrame'>\n",
      "Int64Index: 6480 entries, 0 to 6496\n",
      "Data columns (total 2 columns):\n",
      " #   Column         Non-Null Count  Dtype  \n",
      "---  ------         --------------  -----  \n",
      " 0   type           6480 non-null   object \n",
      " 1   fixed acidity  6480 non-null   float64\n",
      "dtypes: float64(1), object(1)\n",
      "memory usage: 151.9+ KB\n"
     ]
    }
   ],
   "source": [
    "X.info()"
   ]
  },
  {
   "cell_type": "code",
   "execution_count": 31,
   "id": "da268485",
   "metadata": {},
   "outputs": [
    {
     "name": "stdout",
     "output_type": "stream",
     "text": [
      "      type  fixed acidity\n",
      "0        1            7.0\n",
      "1        1            6.3\n",
      "2        1            8.1\n",
      "3        1            7.2\n",
      "4        1            7.2\n",
      "...    ...            ...\n",
      "6492     0            6.2\n",
      "6493     0            5.9\n",
      "6494     0            6.3\n",
      "6495     0            5.9\n",
      "6496     0            6.0\n",
      "\n",
      "[6480 rows x 2 columns]\n",
      "[ 36  42  38 ...  82 106  44]\n"
     ]
    }
   ],
   "source": [
    "from sklearn.preprocessing import LabelEncoder\n",
    "X_labelencoder = LabelEncoder()\n",
    "X.iloc[:, 0] = X_labelencoder.fit_transform(X.iloc[:, 0])\n",
    "print (X)\n",
    "\n",
    "# for y\n",
    "y_labelencoder = LabelEncoder ()\n",
    "y = y_labelencoder.fit_transform (y)\n",
    "print (y)"
   ]
  },
  {
   "cell_type": "code",
   "execution_count": 32,
   "id": "323f92c1",
   "metadata": {},
   "outputs": [],
   "source": [
    "from sklearn.model_selection import train_test_split\n",
    "\n",
    "X_train, X_test, y_train, y_test = train_test_split(X, y, test_size=0.2, random_state=2)"
   ]
  },
  {
   "cell_type": "code",
   "execution_count": 33,
   "id": "901b2864",
   "metadata": {},
   "outputs": [
    {
     "data": {
      "text/plain": [
       "array([38, 38, 38, ..., 38, 38, 38], dtype=int64)"
      ]
     },
     "execution_count": 33,
     "metadata": {},
     "output_type": "execute_result"
    }
   ],
   "source": [
    "from sklearn.tree import DecisionTreeClassifier\n",
    "\n",
    "decision_tree = DecisionTreeClassifier(criterion = \"entropy\",max_depth=2)\n",
    "decision_tree.fit(X_train, y_train) # training to machine\n",
    "predictValues =decision_tree.predict(X_test) # test the machine \n",
    "predictValues"
   ]
  },
  {
   "cell_type": "code",
   "execution_count": 34,
   "id": "c8f982ff",
   "metadata": {},
   "outputs": [
    {
     "name": "stdout",
     "output_type": "stream",
     "text": [
      "0.03780864197530864\n"
     ]
    }
   ],
   "source": [
    "from sklearn.metrics import accuracy_score\n",
    "import numpy as np\n",
    "\n",
    "print(accuracy_score(y_test, predictValues))"
   ]
  },
  {
   "cell_type": "code",
   "execution_count": 35,
   "id": "9f268187",
   "metadata": {},
   "outputs": [
    {
     "name": "stdout",
     "output_type": "stream",
     "text": [
      "[ 36  50  95 ...  72 114  19]\n"
     ]
    },
    {
     "data": {
      "text/plain": [
       "Index(['type', 'fixed acidity'], dtype='object')"
      ]
     },
     "execution_count": 35,
     "metadata": {},
     "output_type": "execute_result"
    }
   ],
   "source": [
    "print(y_train)\n",
    "X_train\n",
    "X.columns"
   ]
  },
  {
   "cell_type": "code",
   "execution_count": 36,
   "id": "e2edc292",
   "metadata": {},
   "outputs": [
    {
     "data": {
      "text/html": [
       "<div>\n",
       "<style scoped>\n",
       "    .dataframe tbody tr th:only-of-type {\n",
       "        vertical-align: middle;\n",
       "    }\n",
       "\n",
       "    .dataframe tbody tr th {\n",
       "        vertical-align: top;\n",
       "    }\n",
       "\n",
       "    .dataframe thead th {\n",
       "        text-align: right;\n",
       "    }\n",
       "</style>\n",
       "<table border=\"1\" class=\"dataframe\">\n",
       "  <thead>\n",
       "    <tr style=\"text-align: right;\">\n",
       "      <th></th>\n",
       "      <th>type</th>\n",
       "      <th>fixed acidity</th>\n",
       "    </tr>\n",
       "  </thead>\n",
       "  <tbody>\n",
       "    <tr>\n",
       "      <th>1717</th>\n",
       "      <td>1</td>\n",
       "      <td>6.8</td>\n",
       "    </tr>\n",
       "    <tr>\n",
       "      <th>5788</th>\n",
       "      <td>0</td>\n",
       "      <td>7.2</td>\n",
       "    </tr>\n",
       "    <tr>\n",
       "      <th>6244</th>\n",
       "      <td>0</td>\n",
       "      <td>6.1</td>\n",
       "    </tr>\n",
       "    <tr>\n",
       "      <th>3797</th>\n",
       "      <td>1</td>\n",
       "      <td>7.0</td>\n",
       "    </tr>\n",
       "    <tr>\n",
       "      <th>4465</th>\n",
       "      <td>1</td>\n",
       "      <td>6.6</td>\n",
       "    </tr>\n",
       "    <tr>\n",
       "      <th>...</th>\n",
       "      <td>...</td>\n",
       "      <td>...</td>\n",
       "    </tr>\n",
       "    <tr>\n",
       "      <th>2525</th>\n",
       "      <td>1</td>\n",
       "      <td>7.3</td>\n",
       "    </tr>\n",
       "    <tr>\n",
       "      <th>6459</th>\n",
       "      <td>0</td>\n",
       "      <td>7.8</td>\n",
       "    </tr>\n",
       "    <tr>\n",
       "      <th>3619</th>\n",
       "      <td>1</td>\n",
       "      <td>6.8</td>\n",
       "    </tr>\n",
       "    <tr>\n",
       "      <th>5718</th>\n",
       "      <td>0</td>\n",
       "      <td>7.0</td>\n",
       "    </tr>\n",
       "    <tr>\n",
       "      <th>2586</th>\n",
       "      <td>1</td>\n",
       "      <td>6.8</td>\n",
       "    </tr>\n",
       "  </tbody>\n",
       "</table>\n",
       "<p>5184 rows × 2 columns</p>\n",
       "</div>"
      ],
      "text/plain": [
       "      type  fixed acidity\n",
       "1717     1            6.8\n",
       "5788     0            7.2\n",
       "6244     0            6.1\n",
       "3797     1            7.0\n",
       "4465     1            6.6\n",
       "...    ...            ...\n",
       "2525     1            7.3\n",
       "6459     0            7.8\n",
       "3619     1            6.8\n",
       "5718     0            7.0\n",
       "2586     1            6.8\n",
       "\n",
       "[5184 rows x 2 columns]"
      ]
     },
     "execution_count": 36,
     "metadata": {},
     "output_type": "execute_result"
    }
   ],
   "source": [
    "X_train"
   ]
  },
  {
   "cell_type": "code",
   "execution_count": 37,
   "id": "84e6f098",
   "metadata": {},
   "outputs": [
    {
     "data": {
      "text/plain": [
       "[1, 1, 2]"
      ]
     },
     "execution_count": 37,
     "metadata": {},
     "output_type": "execute_result"
    }
   ],
   "source": [
    "y_train\n",
    "[1,1,2]"
   ]
  },
  {
   "cell_type": "code",
   "execution_count": 38,
   "id": "64c450e4",
   "metadata": {},
   "outputs": [],
   "source": [
    "data_feature_names = X.columns\n",
    "from sklearn.tree import export_graphviz\n",
    "from sklearn import tree\n",
    "from graphviz import Source\n",
    "from IPython.display import SVG\n",
    "from IPython.display import display\n"
   ]
  },
  {
   "cell_type": "code",
   "execution_count": 39,
   "id": "057dabe4",
   "metadata": {},
   "outputs": [],
   "source": [
    "graph = Source(tree.export_graphviz(decision_tree, feature_names=X.columns, filled = True,rounded=True))"
   ]
  },
  {
   "cell_type": "code",
   "execution_count": 40,
   "id": "674d0370",
   "metadata": {},
   "outputs": [
    {
     "data": {
      "image/svg+xml": [
       "<svg xmlns=\"http://www.w3.org/2000/svg\" xmlns:xlink=\"http://www.w3.org/1999/xlink\" width=\"1232pt\" height=\"854pt\" viewBox=\"0.00 0.00 1231.50 854.00\">\n",
       "<g id=\"graph0\" class=\"graph\" transform=\"scale(1 1) rotate(0) translate(4 850)\">\n",
       "<title>Tree</title>\n",
       "<polygon fill=\"white\" stroke=\"transparent\" points=\"-4,4 -4,-850 1227.5,-850 1227.5,4 -4,4\"/>\n",
       "<!-- 0 -->\n",
       "<g id=\"node1\" class=\"node\">\n",
       "<title>0</title>\n",
       "<path fill=\"#fefffe\" stroke=\"black\" d=\"M739.5,-846C739.5,-846 448.5,-846 448.5,-846 442.5,-846 436.5,-840 436.5,-834 436.5,-834 436.5,-595 436.5,-595 436.5,-589 442.5,-583 448.5,-583 448.5,-583 739.5,-583 739.5,-583 745.5,-583 751.5,-589 751.5,-595 751.5,-595 751.5,-834 751.5,-834 751.5,-840 745.5,-846 739.5,-846\"/>\n",
       "<text text-anchor=\"middle\" x=\"594\" y=\"-830.8\" font-family=\"Helvetica,sans-Serif\" font-size=\"14.00\">type &lt;= 0.5</text>\n",
       "<text text-anchor=\"middle\" x=\"594\" y=\"-815.8\" font-family=\"Helvetica,sans-Serif\" font-size=\"14.00\">entropy = 5.948</text>\n",
       "<text text-anchor=\"middle\" x=\"594\" y=\"-800.8\" font-family=\"Helvetica,sans-Serif\" font-size=\"14.00\">samples = 5184</text>\n",
       "<text text-anchor=\"middle\" x=\"594\" y=\"-785.8\" font-family=\"Helvetica,sans-Serif\" font-size=\"14.00\">value = [1, 1, 1, 6, 4, 9, 2, 35, 1, 32, 1, 51, 4, 71</text>\n",
       "<text text-anchor=\"middle\" x=\"594\" y=\"-770.8\" font-family=\"Helvetica,sans-Serif\" font-size=\"14.00\">5, 110, 2, 106, 1, 148, 4, 149, 180, 3, 162, 1</text>\n",
       "<text text-anchor=\"middle\" x=\"594\" y=\"-755.8\" font-family=\"Helvetica,sans-Serif\" font-size=\"14.00\">198, 3, 171, 3, 214, 3, 192, 8, 202, 3, 181, 1</text>\n",
       "<text text-anchor=\"middle\" x=\"594\" y=\"-740.8\" font-family=\"Helvetica,sans-Serif\" font-size=\"14.00\">235, 5, 136, 3, 168, 6, 142, 6, 162, 2, 117, 5</text>\n",
       "<text text-anchor=\"middle\" x=\"594\" y=\"-725.8\" font-family=\"Helvetica,sans-Serif\" font-size=\"14.00\">135, 8, 83, 1, 111, 3, 80, 2, 79, 2, 75, 3, 69</text>\n",
       "<text text-anchor=\"middle\" x=\"594\" y=\"-710.8\" font-family=\"Helvetica,sans-Serif\" font-size=\"14.00\">1, 64, 5, 46, 2, 65, 2, 54, 4, 36, 2, 50, 29</text>\n",
       "<text text-anchor=\"middle\" x=\"594\" y=\"-695.8\" font-family=\"Helvetica,sans-Serif\" font-size=\"14.00\">2, 32, 2, 40, 2, 47, 30, 35, 31, 29, 6, 21, 2</text>\n",
       "<text text-anchor=\"middle\" x=\"594\" y=\"-680.8\" font-family=\"Helvetica,sans-Serif\" font-size=\"14.00\">33, 1, 27, 2, 36, 5, 34, 1, 48, 2, 27, 8, 25</text>\n",
       "<text text-anchor=\"middle\" x=\"594\" y=\"-665.8\" font-family=\"Helvetica,sans-Serif\" font-size=\"14.00\">2, 26, 5, 23, 11, 13, 9, 25, 3, 24, 3, 13, 9</text>\n",
       "<text text-anchor=\"middle\" x=\"594\" y=\"-650.8\" font-family=\"Helvetica,sans-Serif\" font-size=\"14.00\">19, 10, 10, 3, 4, 10, 3, 7, 7, 4, 11, 5, 5</text>\n",
       "<text text-anchor=\"middle\" x=\"594\" y=\"-635.8\" font-family=\"Helvetica,sans-Serif\" font-size=\"14.00\">3, 5, 4, 6, 3, 6, 6, 1, 1, 2, 1, 1, 3, 3</text>\n",
       "<text text-anchor=\"middle\" x=\"594\" y=\"-620.8\" font-family=\"Helvetica,sans-Serif\" font-size=\"14.00\">1, 4, 4, 6, 3, 3, 2, 3, 1, 4, 3, 1, 1, 3</text>\n",
       "<text text-anchor=\"middle\" x=\"594\" y=\"-605.8\" font-family=\"Helvetica,sans-Serif\" font-size=\"14.00\">1, 2, 3, 1, 1, 1, 2, 3, 1, 2, 3, 2, 1, 4</text>\n",
       "<text text-anchor=\"middle\" x=\"594\" y=\"-590.8\" font-family=\"Helvetica,sans-Serif\" font-size=\"14.00\">1, 1, 2, 1, 1, 1, 1, 1, 1, 1, 1, 1, 1]</text>\n",
       "</g>\n",
       "<!-- 1 -->\n",
       "<g id=\"node2\" class=\"node\">\n",
       "<title>1</title>\n",
       "<path fill=\"#fefeff\" stroke=\"black\" d=\"M565,-547C565,-547 307,-547 307,-547 301,-547 295,-541 295,-535 295,-535 295,-296 295,-296 295,-290 301,-284 307,-284 307,-284 565,-284 565,-284 571,-284 577,-290 577,-296 577,-296 577,-535 577,-535 577,-541 571,-547 565,-547\"/>\n",
       "<text text-anchor=\"middle\" x=\"436\" y=\"-531.8\" font-family=\"Helvetica,sans-Serif\" font-size=\"14.00\">fixed acidity &lt;= 8.15</text>\n",
       "<text text-anchor=\"middle\" x=\"436\" y=\"-516.8\" font-family=\"Helvetica,sans-Serif\" font-size=\"14.00\">entropy = 6.367</text>\n",
       "<text text-anchor=\"middle\" x=\"436\" y=\"-501.8\" font-family=\"Helvetica,sans-Serif\" font-size=\"14.00\">samples = 1283</text>\n",
       "<text text-anchor=\"middle\" x=\"436\" y=\"-486.8\" font-family=\"Helvetica,sans-Serif\" font-size=\"14.00\">value = [0, 0, 0, 0, 0, 0, 0, 3, 0, 0, 0, 0, 0, 0</text>\n",
       "<text text-anchor=\"middle\" x=\"436\" y=\"-471.8\" font-family=\"Helvetica,sans-Serif\" font-size=\"14.00\">0, 2, 0, 0, 0, 7, 0, 2, 2, 0, 5, 0, 5, 0</text>\n",
       "<text text-anchor=\"middle\" x=\"436\" y=\"-456.8\" font-family=\"Helvetica,sans-Serif\" font-size=\"14.00\">4, 0, 10, 0, 6, 0, 16, 0, 12, 0, 19, 0, 12</text>\n",
       "<text text-anchor=\"middle\" x=\"436\" y=\"-441.8\" font-family=\"Helvetica,sans-Serif\" font-size=\"14.00\">1, 13, 2, 22, 2, 18, 0, 16, 0, 25, 0, 18, 0</text>\n",
       "<text text-anchor=\"middle\" x=\"436\" y=\"-426.8\" font-family=\"Helvetica,sans-Serif\" font-size=\"14.00\">33, 1, 22, 0, 30, 0, 28, 2, 26, 0, 23, 2, 23</text>\n",
       "<text text-anchor=\"middle\" x=\"436\" y=\"-411.8\" font-family=\"Helvetica,sans-Serif\" font-size=\"14.00\">0, 35, 0, 18, 0, 18, 0, 26, 16, 1, 19, 0, 31</text>\n",
       "<text text-anchor=\"middle\" x=\"436\" y=\"-396.8\" font-family=\"Helvetica,sans-Serif\" font-size=\"14.00\">0, 35, 21, 26, 23, 23, 5, 15, 0, 28, 1, 23, 2</text>\n",
       "<text text-anchor=\"middle\" x=\"436\" y=\"-381.8\" font-family=\"Helvetica,sans-Serif\" font-size=\"14.00\">30, 3, 31, 1, 42, 2, 21, 4, 20, 2, 24, 5, 18</text>\n",
       "<text text-anchor=\"middle\" x=\"436\" y=\"-366.8\" font-family=\"Helvetica,sans-Serif\" font-size=\"14.00\">11, 12, 7, 23, 3, 19, 3, 10, 9, 18, 7, 10, 2</text>\n",
       "<text text-anchor=\"middle\" x=\"436\" y=\"-351.8\" font-family=\"Helvetica,sans-Serif\" font-size=\"14.00\">3, 10, 3, 7, 6, 4, 10, 5, 5, 3, 4, 4, 6, 3</text>\n",
       "<text text-anchor=\"middle\" x=\"436\" y=\"-336.8\" font-family=\"Helvetica,sans-Serif\" font-size=\"14.00\">6, 5, 1, 1, 2, 1, 1, 2, 3, 1, 4, 4, 6, 2</text>\n",
       "<text text-anchor=\"middle\" x=\"436\" y=\"-321.8\" font-family=\"Helvetica,sans-Serif\" font-size=\"14.00\">3, 2, 3, 1, 4, 3, 1, 1, 3, 0, 1, 3, 1, 0</text>\n",
       "<text text-anchor=\"middle\" x=\"436\" y=\"-306.8\" font-family=\"Helvetica,sans-Serif\" font-size=\"14.00\">1, 2, 2, 1, 2, 3, 1, 1, 4, 1, 1, 2, 1, 1</text>\n",
       "<text text-anchor=\"middle\" x=\"436\" y=\"-291.8\" font-family=\"Helvetica,sans-Serif\" font-size=\"14.00\">0, 1, 1, 1, 1, 1, 1, 1]</text>\n",
       "</g>\n",
       "<!-- 0&#45;&gt;1 -->\n",
       "<g id=\"edge1\" class=\"edge\">\n",
       "<title>0-&gt;1</title>\n",
       "<path fill=\"none\" stroke=\"black\" d=\"M524.47,-582.8C519.75,-573.93 514.98,-564.97 510.24,-556.06\"/>\n",
       "<polygon fill=\"black\" stroke=\"black\" points=\"513.3,-554.35 505.51,-547.16 507.12,-557.64 513.3,-554.35\"/>\n",
       "<text text-anchor=\"middle\" x=\"498.21\" y=\"-567.37\" font-family=\"Helvetica,sans-Serif\" font-size=\"14.00\">True</text>\n",
       "</g>\n",
       "<!-- 4 -->\n",
       "<g id=\"node5\" class=\"node\">\n",
       "<title>4</title>\n",
       "<path fill=\"#fffffe\" stroke=\"black\" d=\"M898.5,-547C898.5,-547 607.5,-547 607.5,-547 601.5,-547 595.5,-541 595.5,-535 595.5,-535 595.5,-296 595.5,-296 595.5,-290 601.5,-284 607.5,-284 607.5,-284 898.5,-284 898.5,-284 904.5,-284 910.5,-290 910.5,-296 910.5,-296 910.5,-535 910.5,-535 910.5,-541 904.5,-547 898.5,-547\"/>\n",
       "<text text-anchor=\"middle\" x=\"753\" y=\"-531.8\" font-family=\"Helvetica,sans-Serif\" font-size=\"14.00\">fixed acidity &lt;= 5.65</text>\n",
       "<text text-anchor=\"middle\" x=\"753\" y=\"-516.8\" font-family=\"Helvetica,sans-Serif\" font-size=\"14.00\">entropy = 5.324</text>\n",
       "<text text-anchor=\"middle\" x=\"753\" y=\"-501.8\" font-family=\"Helvetica,sans-Serif\" font-size=\"14.00\">samples = 3901</text>\n",
       "<text text-anchor=\"middle\" x=\"753\" y=\"-486.8\" font-family=\"Helvetica,sans-Serif\" font-size=\"14.00\">value = [1, 1, 1, 6, 4, 9, 2, 32, 1, 32, 1, 51, 4, 71</text>\n",
       "<text text-anchor=\"middle\" x=\"753\" y=\"-471.8\" font-family=\"Helvetica,sans-Serif\" font-size=\"14.00\">5, 108, 2, 106, 1, 141, 4, 147, 178, 3, 157, 1</text>\n",
       "<text text-anchor=\"middle\" x=\"753\" y=\"-456.8\" font-family=\"Helvetica,sans-Serif\" font-size=\"14.00\">193, 3, 167, 3, 204, 3, 186, 8, 186, 3, 169, 1</text>\n",
       "<text text-anchor=\"middle\" x=\"753\" y=\"-441.8\" font-family=\"Helvetica,sans-Serif\" font-size=\"14.00\">216, 5, 124, 2, 155, 4, 120, 4, 144, 2, 101, 5</text>\n",
       "<text text-anchor=\"middle\" x=\"753\" y=\"-426.8\" font-family=\"Helvetica,sans-Serif\" font-size=\"14.00\">110, 8, 65, 1, 78, 2, 58, 2, 49, 2, 47, 1, 43</text>\n",
       "<text text-anchor=\"middle\" x=\"753\" y=\"-411.8\" font-family=\"Helvetica,sans-Serif\" font-size=\"14.00\">1, 41, 3, 23, 2, 30, 2, 36, 4, 18, 2, 24, 13</text>\n",
       "<text text-anchor=\"middle\" x=\"753\" y=\"-396.8\" font-family=\"Helvetica,sans-Serif\" font-size=\"14.00\">1, 13, 2, 9, 2, 12, 9, 9, 8, 6, 1, 6, 2, 5</text>\n",
       "<text text-anchor=\"middle\" x=\"753\" y=\"-381.8\" font-family=\"Helvetica,sans-Serif\" font-size=\"14.00\">0, 4, 0, 6, 2, 3, 0, 6, 0, 6, 4, 5, 0, 2</text>\n",
       "<text text-anchor=\"middle\" x=\"753\" y=\"-366.8\" font-family=\"Helvetica,sans-Serif\" font-size=\"14.00\">0, 5, 0, 1, 2, 2, 0, 5, 0, 3, 0, 1, 3, 0</text>\n",
       "<text text-anchor=\"middle\" x=\"753\" y=\"-351.8\" font-family=\"Helvetica,sans-Serif\" font-size=\"14.00\">1, 1, 0, 0, 0, 1, 0, 1, 0, 0, 0, 1, 0, 0</text>\n",
       "<text text-anchor=\"middle\" x=\"753\" y=\"-336.8\" font-family=\"Helvetica,sans-Serif\" font-size=\"14.00\">0, 0, 1, 0, 0, 0, 0, 0, 1, 0, 0, 0, 0, 0</text>\n",
       "<text text-anchor=\"middle\" x=\"753\" y=\"-321.8\" font-family=\"Helvetica,sans-Serif\" font-size=\"14.00\">1, 0, 0, 0, 0, 0, 0, 0, 0, 0, 1, 1, 0, 0</text>\n",
       "<text text-anchor=\"middle\" x=\"753\" y=\"-306.8\" font-family=\"Helvetica,sans-Serif\" font-size=\"14.00\">1, 0, 0, 1, 0, 0, 0, 1, 0, 0, 0, 0, 0, 0</text>\n",
       "<text text-anchor=\"middle\" x=\"753\" y=\"-291.8\" font-family=\"Helvetica,sans-Serif\" font-size=\"14.00\">0, 1, 0, 0, 0, 0, 0, 0, 0]</text>\n",
       "</g>\n",
       "<!-- 0&#45;&gt;4 -->\n",
       "<g id=\"edge4\" class=\"edge\">\n",
       "<title>0-&gt;4</title>\n",
       "<path fill=\"none\" stroke=\"black\" d=\"M663.97,-582.8C668.72,-573.93 673.52,-564.97 678.29,-556.06\"/>\n",
       "<polygon fill=\"black\" stroke=\"black\" points=\"681.41,-557.63 683.05,-547.16 675.24,-554.33 681.41,-557.63\"/>\n",
       "<text text-anchor=\"middle\" x=\"690.29\" y=\"-567.39\" font-family=\"Helvetica,sans-Serif\" font-size=\"14.00\">False</text>\n",
       "</g>\n",
       "<!-- 2 -->\n",
       "<g id=\"node3\" class=\"node\">\n",
       "<title>2</title>\n",
       "<path fill=\"#fefeff\" stroke=\"black\" d=\"M270,-248C270,-248 12,-248 12,-248 6,-248 0,-242 0,-236 0,-236 0,-12 0,-12 0,-6 6,0 12,0 12,0 270,0 270,0 276,0 282,-6 282,-12 282,-12 282,-236 282,-236 282,-242 276,-248 270,-248\"/>\n",
       "<text text-anchor=\"middle\" x=\"141\" y=\"-232.8\" font-family=\"Helvetica,sans-Serif\" font-size=\"14.00\">entropy = 6.262</text>\n",
       "<text text-anchor=\"middle\" x=\"141\" y=\"-217.8\" font-family=\"Helvetica,sans-Serif\" font-size=\"14.00\">samples = 709</text>\n",
       "<text text-anchor=\"middle\" x=\"141\" y=\"-202.8\" font-family=\"Helvetica,sans-Serif\" font-size=\"14.00\">value = [0, 0, 0, 0, 0, 0, 0, 0, 0, 0, 0, 0, 0, 0</text>\n",
       "<text text-anchor=\"middle\" x=\"141\" y=\"-187.8\" font-family=\"Helvetica,sans-Serif\" font-size=\"14.00\">0, 2, 0, 0, 0, 3, 0, 2, 0, 0, 1, 0, 2, 0</text>\n",
       "<text text-anchor=\"middle\" x=\"141\" y=\"-172.8\" font-family=\"Helvetica,sans-Serif\" font-size=\"14.00\">2, 0, 0, 0, 3, 0, 2, 0, 3, 0, 4, 0, 5, 0</text>\n",
       "<text text-anchor=\"middle\" x=\"141\" y=\"-157.8\" font-family=\"Helvetica,sans-Serif\" font-size=\"14.00\">4, 2, 8, 0, 5, 0, 6, 0, 12, 0, 6, 0, 17, 1</text>\n",
       "<text text-anchor=\"middle\" x=\"141\" y=\"-142.8\" font-family=\"Helvetica,sans-Serif\" font-size=\"14.00\">4, 0, 15, 0, 14, 1, 8, 0, 9, 1, 10, 0, 24, 0</text>\n",
       "<text text-anchor=\"middle\" x=\"141\" y=\"-127.8\" font-family=\"Helvetica,sans-Serif\" font-size=\"14.00\">5, 0, 4, 0, 12, 5, 0, 13, 0, 20, 0, 17, 19</text>\n",
       "<text text-anchor=\"middle\" x=\"141\" y=\"-112.8\" font-family=\"Helvetica,sans-Serif\" font-size=\"14.00\">17, 13, 11, 5, 11, 0, 19, 0, 21, 2, 24, 2, 17</text>\n",
       "<text text-anchor=\"middle\" x=\"141\" y=\"-97.8\" font-family=\"Helvetica,sans-Serif\" font-size=\"14.00\">0, 28, 2, 13, 1, 13, 0, 21, 3, 14, 6, 8, 3</text>\n",
       "<text text-anchor=\"middle\" x=\"141\" y=\"-82.8\" font-family=\"Helvetica,sans-Serif\" font-size=\"14.00\">14, 2, 15, 1, 7, 5, 13, 6, 6, 1, 3, 6, 2, 6</text>\n",
       "<text text-anchor=\"middle\" x=\"141\" y=\"-67.8\" font-family=\"Helvetica,sans-Serif\" font-size=\"14.00\">3, 3, 7, 2, 5, 2, 2, 2, 4, 2, 3, 3, 1, 0</text>\n",
       "<text text-anchor=\"middle\" x=\"141\" y=\"-52.8\" font-family=\"Helvetica,sans-Serif\" font-size=\"14.00\">1, 1, 1, 2, 1, 1, 2, 4, 3, 1, 3, 1, 3, 0</text>\n",
       "<text text-anchor=\"middle\" x=\"141\" y=\"-37.8\" font-family=\"Helvetica,sans-Serif\" font-size=\"14.00\">2, 3, 0, 1, 2, 0, 1, 2, 0, 0, 1, 2, 2, 1</text>\n",
       "<text text-anchor=\"middle\" x=\"141\" y=\"-22.8\" font-family=\"Helvetica,sans-Serif\" font-size=\"14.00\">2, 1, 1, 1, 2, 0, 0, 2, 1, 1, 0, 1, 1, 1</text>\n",
       "<text text-anchor=\"middle\" x=\"141\" y=\"-7.8\" font-family=\"Helvetica,sans-Serif\" font-size=\"14.00\">1, 0, 1, 1]</text>\n",
       "</g>\n",
       "<!-- 1&#45;&gt;2 -->\n",
       "<g id=\"edge2\" class=\"edge\">\n",
       "<title>1-&gt;2</title>\n",
       "<path fill=\"none\" stroke=\"black\" d=\"M302.74,-283.73C293.13,-274.29 283.43,-264.78 273.82,-255.35\"/>\n",
       "<polygon fill=\"black\" stroke=\"black\" points=\"276.08,-252.66 266.5,-248.16 271.18,-257.66 276.08,-252.66\"/>\n",
       "</g>\n",
       "<!-- 3 -->\n",
       "<g id=\"node4\" class=\"node\">\n",
       "<title>3</title>\n",
       "<path fill=\"#ffffff\" stroke=\"black\" d=\"M570,-248C570,-248 312,-248 312,-248 306,-248 300,-242 300,-236 300,-236 300,-12 300,-12 300,-6 306,0 312,0 312,0 570,0 570,0 576,0 582,-6 582,-12 582,-12 582,-236 582,-236 582,-242 576,-248 570,-248\"/>\n",
       "<text text-anchor=\"middle\" x=\"441\" y=\"-232.8\" font-family=\"Helvetica,sans-Serif\" font-size=\"14.00\">entropy = 6.113</text>\n",
       "<text text-anchor=\"middle\" x=\"441\" y=\"-217.8\" font-family=\"Helvetica,sans-Serif\" font-size=\"14.00\">samples = 574</text>\n",
       "<text text-anchor=\"middle\" x=\"441\" y=\"-202.8\" font-family=\"Helvetica,sans-Serif\" font-size=\"14.00\">value = [0, 0, 0, 0, 0, 0, 0, 3, 0, 0, 0, 0, 0, 0</text>\n",
       "<text text-anchor=\"middle\" x=\"441\" y=\"-187.8\" font-family=\"Helvetica,sans-Serif\" font-size=\"14.00\">0, 0, 0, 0, 0, 4, 0, 0, 2, 0, 4, 0, 3, 0</text>\n",
       "<text text-anchor=\"middle\" x=\"441\" y=\"-172.8\" font-family=\"Helvetica,sans-Serif\" font-size=\"14.00\">2, 0, 10, 0, 3, 0, 14, 0, 9, 0, 15, 0, 7, 1</text>\n",
       "<text text-anchor=\"middle\" x=\"441\" y=\"-157.8\" font-family=\"Helvetica,sans-Serif\" font-size=\"14.00\">9, 0, 14, 2, 13, 0, 10, 0, 13, 0, 12, 0, 16</text>\n",
       "<text text-anchor=\"middle\" x=\"441\" y=\"-142.8\" font-family=\"Helvetica,sans-Serif\" font-size=\"14.00\">0, 18, 0, 15, 0, 14, 1, 18, 0, 14, 1, 13, 0</text>\n",
       "<text text-anchor=\"middle\" x=\"441\" y=\"-127.8\" font-family=\"Helvetica,sans-Serif\" font-size=\"14.00\">11, 0, 13, 0, 14, 0, 14, 11, 1, 6, 0, 11, 0</text>\n",
       "<text text-anchor=\"middle\" x=\"441\" y=\"-112.8\" font-family=\"Helvetica,sans-Serif\" font-size=\"14.00\">18, 2, 9, 10, 12, 0, 4, 0, 9, 1, 2, 0, 6, 1</text>\n",
       "<text text-anchor=\"middle\" x=\"441\" y=\"-97.8\" font-family=\"Helvetica,sans-Serif\" font-size=\"14.00\">14, 1, 14, 0, 8, 3, 7, 2, 3, 2, 4, 5, 4, 4</text>\n",
       "<text text-anchor=\"middle\" x=\"441\" y=\"-82.8\" font-family=\"Helvetica,sans-Serif\" font-size=\"14.00\">9, 1, 4, 2, 3, 4, 5, 1, 4, 1, 0, 4, 1, 1</text>\n",
       "<text text-anchor=\"middle\" x=\"441\" y=\"-67.8\" font-family=\"Helvetica,sans-Serif\" font-size=\"14.00\">3, 1, 3, 3, 0, 1, 2, 2, 2, 1, 3, 2, 0, 1</text>\n",
       "<text text-anchor=\"middle\" x=\"441\" y=\"-52.8\" font-family=\"Helvetica,sans-Serif\" font-size=\"14.00\">1, 0, 0, 0, 2, 0, 2, 0, 3, 1, 0, 1, 0, 1</text>\n",
       "<text text-anchor=\"middle\" x=\"441\" y=\"-37.8\" font-family=\"Helvetica,sans-Serif\" font-size=\"14.00\">2, 0, 1, 0, 1, 0, 0, 1, 1, 0, 0, 0, 0, 0</text>\n",
       "<text text-anchor=\"middle\" x=\"441\" y=\"-22.8\" font-family=\"Helvetica,sans-Serif\" font-size=\"14.00\">0, 2, 0, 0, 2, 1, 1, 0, 0, 0, 0, 0, 0, 0</text>\n",
       "<text text-anchor=\"middle\" x=\"441\" y=\"-7.8\" font-family=\"Helvetica,sans-Serif\" font-size=\"14.00\">0, 1, 0, 0]</text>\n",
       "</g>\n",
       "<!-- 1&#45;&gt;3 -->\n",
       "<g id=\"edge3\" class=\"edge\">\n",
       "<title>1-&gt;3</title>\n",
       "<path fill=\"none\" stroke=\"black\" d=\"M438.26,-283.73C438.4,-275.31 438.55,-266.83 438.7,-258.4\"/>\n",
       "<polygon fill=\"black\" stroke=\"black\" points=\"442.2,-258.21 438.87,-248.16 435.2,-258.09 442.2,-258.21\"/>\n",
       "</g>\n",
       "<!-- 5 -->\n",
       "<g id=\"node6\" class=\"node\">\n",
       "<title>5</title>\n",
       "<path fill=\"#fefffd\" stroke=\"black\" d=\"M878,-248C878,-248 620,-248 620,-248 614,-248 608,-242 608,-236 608,-236 608,-12 608,-12 608,-6 614,0 620,0 620,0 878,0 878,0 884,0 890,-6 890,-12 890,-12 890,-236 890,-236 890,-242 884,-248 878,-248\"/>\n",
       "<text text-anchor=\"middle\" x=\"749\" y=\"-232.8\" font-family=\"Helvetica,sans-Serif\" font-size=\"14.00\">entropy = 5.74</text>\n",
       "<text text-anchor=\"middle\" x=\"749\" y=\"-217.8\" font-family=\"Helvetica,sans-Serif\" font-size=\"14.00\">samples = 211</text>\n",
       "<text text-anchor=\"middle\" x=\"749\" y=\"-202.8\" font-family=\"Helvetica,sans-Serif\" font-size=\"14.00\">value = [0, 0, 0, 0, 0, 1, 0, 5, 0, 2, 0, 3, 1, 3</text>\n",
       "<text text-anchor=\"middle\" x=\"749\" y=\"-187.8\" font-family=\"Helvetica,sans-Serif\" font-size=\"14.00\">2, 7, 2, 5, 1, 7, 4, 6, 5, 1, 6, 1, 1, 2</text>\n",
       "<text text-anchor=\"middle\" x=\"749\" y=\"-172.8\" font-family=\"Helvetica,sans-Serif\" font-size=\"14.00\">5, 2, 11, 1, 4, 1, 7, 1, 3, 0, 3, 1, 9, 1</text>\n",
       "<text text-anchor=\"middle\" x=\"749\" y=\"-157.8\" font-family=\"Helvetica,sans-Serif\" font-size=\"14.00\">8, 1, 8, 1, 8, 0, 7, 3, 4, 2, 9, 0, 3, 1</text>\n",
       "<text text-anchor=\"middle\" x=\"749\" y=\"-142.8\" font-family=\"Helvetica,sans-Serif\" font-size=\"14.00\">0, 2, 1, 0, 2, 0, 1, 1, 2, 1, 3, 0, 0, 0</text>\n",
       "<text text-anchor=\"middle\" x=\"749\" y=\"-127.8\" font-family=\"Helvetica,sans-Serif\" font-size=\"14.00\">3, 1, 0, 2, 3, 2, 0, 0, 0, 2, 0, 1, 0, 1</text>\n",
       "<text text-anchor=\"middle\" x=\"749\" y=\"-112.8\" font-family=\"Helvetica,sans-Serif\" font-size=\"14.00\">2, 1, 0, 1, 0, 0, 0, 0, 0, 0, 1, 1, 0, 2</text>\n",
       "<text text-anchor=\"middle\" x=\"749\" y=\"-97.8\" font-family=\"Helvetica,sans-Serif\" font-size=\"14.00\">0, 1, 0, 1, 0, 0, 0, 0, 0, 0, 0, 0, 0, 1</text>\n",
       "<text text-anchor=\"middle\" x=\"749\" y=\"-82.8\" font-family=\"Helvetica,sans-Serif\" font-size=\"14.00\">0, 0, 0, 0, 1, 0, 0, 0, 0, 0, 0, 0, 0, 0</text>\n",
       "<text text-anchor=\"middle\" x=\"749\" y=\"-67.8\" font-family=\"Helvetica,sans-Serif\" font-size=\"14.00\">0, 0, 0, 1, 0, 0, 0, 0, 1, 0, 0, 0, 0, 0</text>\n",
       "<text text-anchor=\"middle\" x=\"749\" y=\"-52.8\" font-family=\"Helvetica,sans-Serif\" font-size=\"14.00\">0, 0, 0, 0, 0, 0, 0, 0, 0, 0, 0, 0, 0, 0</text>\n",
       "<text text-anchor=\"middle\" x=\"749\" y=\"-37.8\" font-family=\"Helvetica,sans-Serif\" font-size=\"14.00\">0, 0, 0, 0, 0, 0, 0, 0, 0, 0, 0, 0, 0, 0</text>\n",
       "<text text-anchor=\"middle\" x=\"749\" y=\"-22.8\" font-family=\"Helvetica,sans-Serif\" font-size=\"14.00\">0, 0, 0, 0, 0, 0, 0, 0, 0, 0, 0, 0, 0, 0</text>\n",
       "<text text-anchor=\"middle\" x=\"749\" y=\"-7.8\" font-family=\"Helvetica,sans-Serif\" font-size=\"14.00\">0]</text>\n",
       "</g>\n",
       "<!-- 4&#45;&gt;5 -->\n",
       "<g id=\"edge5\" class=\"edge\">\n",
       "<title>4-&gt;5</title>\n",
       "<path fill=\"none\" stroke=\"black\" d=\"M751.19,-283.73C751.08,-275.31 750.96,-266.83 750.84,-258.4\"/>\n",
       "<polygon fill=\"black\" stroke=\"black\" points=\"754.34,-258.11 750.7,-248.16 747.34,-258.2 754.34,-258.11\"/>\n",
       "</g>\n",
       "<!-- 6 -->\n",
       "<g id=\"node7\" class=\"node\">\n",
       "<title>6</title>\n",
       "<path fill=\"#fefffe\" stroke=\"black\" d=\"M1211.5,-248C1211.5,-248 920.5,-248 920.5,-248 914.5,-248 908.5,-242 908.5,-236 908.5,-236 908.5,-12 908.5,-12 908.5,-6 914.5,0 920.5,0 920.5,0 1211.5,0 1211.5,0 1217.5,0 1223.5,-6 1223.5,-12 1223.5,-12 1223.5,-236 1223.5,-236 1223.5,-242 1217.5,-248 1211.5,-248\"/>\n",
       "<text text-anchor=\"middle\" x=\"1066\" y=\"-232.8\" font-family=\"Helvetica,sans-Serif\" font-size=\"14.00\">entropy = 5.25</text>\n",
       "<text text-anchor=\"middle\" x=\"1066\" y=\"-217.8\" font-family=\"Helvetica,sans-Serif\" font-size=\"14.00\">samples = 3690</text>\n",
       "<text text-anchor=\"middle\" x=\"1066\" y=\"-202.8\" font-family=\"Helvetica,sans-Serif\" font-size=\"14.00\">value = [1, 1, 1, 6, 4, 8, 2, 27, 1, 30, 1, 48, 3, 68</text>\n",
       "<text text-anchor=\"middle\" x=\"1066\" y=\"-187.8\" font-family=\"Helvetica,sans-Serif\" font-size=\"14.00\">3, 101, 0, 101, 0, 134, 0, 141, 173, 2, 151, 0</text>\n",
       "<text text-anchor=\"middle\" x=\"1066\" y=\"-172.8\" font-family=\"Helvetica,sans-Serif\" font-size=\"14.00\">192, 1, 162, 1, 193, 2, 182, 7, 179, 2, 166, 1</text>\n",
       "<text text-anchor=\"middle\" x=\"1066\" y=\"-157.8\" font-family=\"Helvetica,sans-Serif\" font-size=\"14.00\">213, 4, 115, 1, 147, 3, 112, 3, 136, 2, 94, 2</text>\n",
       "<text text-anchor=\"middle\" x=\"1066\" y=\"-142.8\" font-family=\"Helvetica,sans-Serif\" font-size=\"14.00\">106, 6, 56, 1, 75, 1, 58, 0, 48, 2, 45, 1, 42</text>\n",
       "<text text-anchor=\"middle\" x=\"1066\" y=\"-127.8\" font-family=\"Helvetica,sans-Serif\" font-size=\"14.00\">0, 39, 2, 20, 2, 30, 2, 33, 3, 18, 0, 21, 11</text>\n",
       "<text text-anchor=\"middle\" x=\"1066\" y=\"-112.8\" font-family=\"Helvetica,sans-Serif\" font-size=\"14.00\">1, 13, 2, 7, 2, 11, 9, 8, 6, 5, 1, 5, 2, 5</text>\n",
       "<text text-anchor=\"middle\" x=\"1066\" y=\"-97.8\" font-family=\"Helvetica,sans-Serif\" font-size=\"14.00\">0, 4, 0, 6, 1, 2, 0, 4, 0, 5, 4, 4, 0, 2</text>\n",
       "<text text-anchor=\"middle\" x=\"1066\" y=\"-82.8\" font-family=\"Helvetica,sans-Serif\" font-size=\"14.00\">0, 5, 0, 1, 2, 2, 0, 4, 0, 3, 0, 1, 2, 0</text>\n",
       "<text text-anchor=\"middle\" x=\"1066\" y=\"-67.8\" font-family=\"Helvetica,sans-Serif\" font-size=\"14.00\">1, 1, 0, 0, 0, 1, 0, 1, 0, 0, 0, 0, 0, 0</text>\n",
       "<text text-anchor=\"middle\" x=\"1066\" y=\"-52.8\" font-family=\"Helvetica,sans-Serif\" font-size=\"14.00\">0, 0, 0, 0, 0, 0, 0, 0, 1, 0, 0, 0, 0, 0</text>\n",
       "<text text-anchor=\"middle\" x=\"1066\" y=\"-37.8\" font-family=\"Helvetica,sans-Serif\" font-size=\"14.00\">1, 0, 0, 0, 0, 0, 0, 0, 0, 0, 1, 1, 0, 0</text>\n",
       "<text text-anchor=\"middle\" x=\"1066\" y=\"-22.8\" font-family=\"Helvetica,sans-Serif\" font-size=\"14.00\">1, 0, 0, 1, 0, 0, 0, 1, 0, 0, 0, 0, 0, 0</text>\n",
       "<text text-anchor=\"middle\" x=\"1066\" y=\"-7.8\" font-family=\"Helvetica,sans-Serif\" font-size=\"14.00\">0, 1, 0, 0, 0, 0, 0, 0, 0]</text>\n",
       "</g>\n",
       "<!-- 4&#45;&gt;6 -->\n",
       "<g id=\"edge6\" class=\"edge\">\n",
       "<title>4-&gt;6</title>\n",
       "<path fill=\"none\" stroke=\"black\" d=\"M894.39,-283.73C904.69,-274.2 915.08,-264.59 925.37,-255.07\"/>\n",
       "<polygon fill=\"black\" stroke=\"black\" points=\"927.88,-257.51 932.85,-248.16 923.13,-252.38 927.88,-257.51\"/>\n",
       "</g>\n",
       "</g>\n",
       "</svg>"
      ],
      "text/plain": [
       "<IPython.core.display.SVG object>"
      ]
     },
     "metadata": {},
     "output_type": "display_data"
    }
   ],
   "source": [
    "display(SVG(graph.pipe(format='svg')))"
   ]
  },
  {
   "cell_type": "code",
   "execution_count": null,
   "id": "e0668a46",
   "metadata": {},
   "outputs": [],
   "source": []
  }
 ],
 "metadata": {
  "kernelspec": {
   "display_name": "Python 3 (ipykernel)",
   "language": "python",
   "name": "python3"
  },
  "language_info": {
   "codemirror_mode": {
    "name": "ipython",
    "version": 3
   },
   "file_extension": ".py",
   "mimetype": "text/x-python",
   "name": "python",
   "nbconvert_exporter": "python",
   "pygments_lexer": "ipython3",
   "version": "3.9.6"
  }
 },
 "nbformat": 4,
 "nbformat_minor": 5
}
